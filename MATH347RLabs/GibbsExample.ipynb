{
 "cells": [
  {
   "cell_type": "code",
   "execution_count": 6,
   "metadata": {
    "scrolled": true
   },
   "outputs": [],
   "source": [
    "import numpy as np\n",
    "import pandas as pd\n",
    "import matplotlib.pyplot as plt\n",
    "import seaborn as sns"
   ]
  },
  {
   "cell_type": "markdown",
   "metadata": {},
   "source": [
    "We are trying to write a Gibbs sampler in Python.\n",
    "\n",
    "# MATH 399 Bayesian Inference with Python\n",
    "\n",
    "## Lecture 1"
   ]
  },
  {
   "cell_type": "code",
   "execution_count": 9,
   "metadata": {},
   "outputs": [
    {
     "data": {
      "text/html": [
       "<div>\n",
       "<style scoped>\n",
       "    .dataframe tbody tr th:only-of-type {\n",
       "        vertical-align: middle;\n",
       "    }\n",
       "\n",
       "    .dataframe tbody tr th {\n",
       "        vertical-align: top;\n",
       "    }\n",
       "\n",
       "    .dataframe thead th {\n",
       "        text-align: right;\n",
       "    }\n",
       "</style>\n",
       "<table border=\"1\" class=\"dataframe\">\n",
       "  <thead>\n",
       "    <tr style=\"text-align: right;\">\n",
       "      <th></th>\n",
       "      <th>CEindex</th>\n",
       "      <th>TotalExpLastQ</th>\n",
       "      <th>LogTotalExpLastQ</th>\n",
       "      <th>LogTotalExpLastQ1</th>\n",
       "    </tr>\n",
       "  </thead>\n",
       "  <tbody>\n",
       "    <tr>\n",
       "      <td>0</td>\n",
       "      <td>1</td>\n",
       "      <td>27688.0501</td>\n",
       "      <td>10.228756</td>\n",
       "      <td>10.228756</td>\n",
       "    </tr>\n",
       "    <tr>\n",
       "      <td>1</td>\n",
       "      <td>2</td>\n",
       "      <td>4891.4000</td>\n",
       "      <td>8.495234</td>\n",
       "      <td>8.495234</td>\n",
       "    </tr>\n",
       "    <tr>\n",
       "      <td>2</td>\n",
       "      <td>3</td>\n",
       "      <td>10513.2501</td>\n",
       "      <td>9.260392</td>\n",
       "      <td>9.260392</td>\n",
       "    </tr>\n",
       "    <tr>\n",
       "      <td>3</td>\n",
       "      <td>4</td>\n",
       "      <td>11577.0000</td>\n",
       "      <td>9.356776</td>\n",
       "      <td>9.356776</td>\n",
       "    </tr>\n",
       "    <tr>\n",
       "      <td>4</td>\n",
       "      <td>5</td>\n",
       "      <td>17383.8000</td>\n",
       "      <td>9.763294</td>\n",
       "      <td>9.763294</td>\n",
       "    </tr>\n",
       "  </tbody>\n",
       "</table>\n",
       "</div>"
      ],
      "text/plain": [
       "   CEindex  TotalExpLastQ  LogTotalExpLastQ  LogTotalExpLastQ1\n",
       "0        1     27688.0501         10.228756          10.228756\n",
       "1        2      4891.4000          8.495234           8.495234\n",
       "2        3     10513.2501          9.260392           9.260392\n",
       "3        4     11577.0000          9.356776           9.356776\n",
       "4        5     17383.8000          9.763294           9.763294"
      ]
     },
     "execution_count": 9,
     "metadata": {},
     "output_type": "execute_result"
    }
   ],
   "source": [
    "CEsample = pd.read_csv('CEsample1.csv')\n",
    "CEsample['LogTotalExpLastQ'] = np.log(CEsample.loc[:, 'TotalExpLastQ'])\n",
    "CEsample['LogTotalExpLastQ1'] = np.log(CEsample[['TotalExpLastQ']])\n",
    "CEsample.head()"
   ]
  },
  {
   "cell_type": "code",
   "execution_count": 20,
   "metadata": {},
   "outputs": [],
   "source": [
    "def gibbs_normal(input, S, seed):\n",
    "    np.random.seed(seed)\n",
    "    ybar = np.mean(input['y'])\n",
    "    n = len(input['y'])\n",
    "    para = np.zeros(shape=(S,2))\n",
    "    phi = input['phi_init']\n",
    "\n",
    "    for s in range(0, S-1):\n",
    "        mu1 = (input['mu_0']/(input['sigma_0'] ** 2) + n*phi*ybar)/ \\\n",
    "        (1/(input['sigma_0'] ** 2) + n * phi)\n",
    "        sigma1 = np.sqrt(1/(1/(input['sigma_0'] ** 2) + n*phi))\n",
    "        mu = np.random.normal(mu1, sigma1, 1)\n",
    "        alpha1 = input['alpha'] + n/2\n",
    "        beta1 = input['beta'] + np.sum((input['y'] - mu) ** 2)/2\n",
    "        phi = np.random.gamma(alpha1, 1/beta1, 1)\n",
    "        para[s] = [mu, phi]\n",
    "\n",
    "    return para"
   ]
  },
  {
   "cell_type": "code",
   "execution_count": 21,
   "metadata": {},
   "outputs": [],
   "source": [
    "y = CEsample.LogTotalExpLastQ\n",
    "mu_0 = 5\n",
    "sigma_0 = 1\n",
    "alpha = 1\n",
    "beta = 1\n",
    "phi_init = 1\n",
    "\n",
    "input = {'y': y, 'mu_0': mu_0, 'sigma_0': sigma_0, 'alpha': alpha, \\\n",
    "       'beta': beta, 'phi_init': phi_init}\n",
    "\n",
    "output = gibbs_normal(input, S = 10000, seed = 123)"
   ]
  },
  {
   "cell_type": "code",
   "execution_count": 22,
   "metadata": {},
   "outputs": [
    {
     "data": {
      "text/plain": [
       "8.72577335662739"
      ]
     },
     "execution_count": 22,
     "metadata": {},
     "output_type": "execute_result"
    }
   ],
   "source": [
    "np.quantile(output[:, 0], 0.025)"
   ]
  },
  {
   "cell_type": "code",
   "execution_count": 23,
   "metadata": {},
   "outputs": [
    {
     "data": {
      "text/plain": [
       "8.770212702659208"
      ]
     },
     "execution_count": 23,
     "metadata": {},
     "output_type": "execute_result"
    }
   ],
   "source": [
    "np.quantile(output[:, 0], 0.975)"
   ]
  },
  {
   "cell_type": "code",
   "execution_count": 24,
   "metadata": {},
   "outputs": [
    {
     "data": {
      "text/plain": [
       "<matplotlib.axes._subplots.AxesSubplot at 0x1a257adfd0>"
      ]
     },
     "execution_count": 24,
     "metadata": {},
     "output_type": "execute_result"
    },
    {
     "data": {
      "image/png": "[encoded data removed]",
      "text/plain": [
       "<Figure size 432x288 with 1 Axes>"
      ]
     },
     "metadata": {
      "needs_background": "light"
     },
     "output_type": "display_data"
    }
   ],
   "source": [
    "sns.distplot(output[:, 0], hist = False, kde = True,\n",
    "                 kde_kws = {'linewidth': 3},\n",
    "                 label = 'mu')"
   ]
  },
  {
   "cell_type": "code",
   "execution_count": 25,
   "metadata": {},
   "outputs": [
    {
     "data": {
      "text/plain": [
       "1.2075524276836453"
      ]
     },
     "execution_count": 25,
     "metadata": {},
     "output_type": "execute_result"
    }
   ],
   "source": [
    "np.quantile(output[:, 1], 0.025)"
   ]
  },
  {
   "cell_type": "code",
   "execution_count": 26,
   "metadata": {},
   "outputs": [
    {
     "data": {
      "text/plain": [
       "1.2938624590154733"
      ]
     },
     "execution_count": 26,
     "metadata": {},
     "output_type": "execute_result"
    }
   ],
   "source": [
    "np.quantile(output[:, 1], 0.975)"
   ]
  },
  {
   "cell_type": "code",
   "execution_count": null,
   "metadata": {},
   "outputs": [],
   "source": []
  }
 ],
 "metadata": {
  "kernelspec": {
   "display_name": "Python 3",
   "language": "python",
   "name": "python3"
  },
  "language_info": {
   "codemirror_mode": {
    "name": "ipython",
    "version": 3
   },
   "file_extension": ".py",
   "mimetype": "text/x-python",
   "name": "python",
   "nbconvert_exporter": "python",
   "pygments_lexer": "ipython3",
   "version": "3.7.4"
  }
 },
 "nbformat": 4,
 "nbformat_minor": 2
}
